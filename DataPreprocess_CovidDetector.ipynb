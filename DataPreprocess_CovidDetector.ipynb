{
  "nbformat": 4,
  "nbformat_minor": 0,
  "metadata": {
    "colab": {
      "name": "DataPreprocess_CovidDetector.ipynb",
      "provenance": []
    },
    "kernelspec": {
      "name": "python3",
      "display_name": "Python 3"
    }
  },
  "cells": [
    {
      "cell_type": "code",
      "metadata": {
        "colab": {
          "base_uri": "https://localhost:8080/"
        },
        "id": "XvnSxhzBVqG4",
        "outputId": "d436bf6c-f196-4082-d58a-0c996851c69b"
      },
      "source": [
        "from google.colab import drive \r\n",
        "drive.mount('/content/gdrive')"
      ],
      "execution_count": 2,
      "outputs": [
        {
          "output_type": "stream",
          "text": [
            "Mounted at /content/gdrive\n"
          ],
          "name": "stdout"
        }
      ]
    },
    {
      "cell_type": "code",
      "metadata": {
        "id": "G3nGZvHLV5td"
      },
      "source": [
        "import os\r\n",
        "import pandas as pd"
      ],
      "execution_count": 3,
      "outputs": []
    },
    {
      "cell_type": "code",
      "metadata": {
        "colab": {
          "base_uri": "https://localhost:8080/"
        },
        "id": "rvWdIotwWI_O",
        "outputId": "70eebc5f-3cb7-4b3b-899c-3aa3f4a3818c"
      },
      "source": [
        "%cd /content/gdrive/My\\ Drive/\r\n",
        "FILE_PATH='X-RayDataset/metadata.csv'\r\n",
        "IMAGE_PATH='X-RayDataset/images'\r\n",
        "TARGET_DIR='COVID-19_DATASET'"
      ],
      "execution_count": 4,
      "outputs": [
        {
          "output_type": "stream",
          "text": [
            "/content/gdrive/My Drive\n"
          ],
          "name": "stdout"
        }
      ]
    },
    {
      "cell_type": "code",
      "metadata": {
        "colab": {
          "base_uri": "https://localhost:8080/"
        },
        "id": "Lk-_5-CeWo9r",
        "outputId": "594ecddb-b79b-4dd6-fcc0-3badd4ce561e"
      },
      "source": [
        "df=pd.read_csv(FILE_PATH)\r\n",
        "print(df.shape)"
      ],
      "execution_count": 5,
      "outputs": [
        {
          "output_type": "stream",
          "text": [
            "(950, 30)\n"
          ],
          "name": "stdout"
        }
      ]
    },
    {
      "cell_type": "code",
      "metadata": {
        "colab": {
          "base_uri": "https://localhost:8080/",
          "height": 568
        },
        "id": "eNnh2n-3XRHj",
        "outputId": "d850bc4b-10a2-45fe-f197-482b4f524e94"
      },
      "source": [
        "df.head()"
      ],
      "execution_count": 6,
      "outputs": [
        {
          "output_type": "execute_result",
          "data": {
            "text/html": [
              "<div>\n",
              "<style scoped>\n",
              "    .dataframe tbody tr th:only-of-type {\n",
              "        vertical-align: middle;\n",
              "    }\n",
              "\n",
              "    .dataframe tbody tr th {\n",
              "        vertical-align: top;\n",
              "    }\n",
              "\n",
              "    .dataframe thead th {\n",
              "        text-align: right;\n",
              "    }\n",
              "</style>\n",
              "<table border=\"1\" class=\"dataframe\">\n",
              "  <thead>\n",
              "    <tr style=\"text-align: right;\">\n",
              "      <th></th>\n",
              "      <th>patientid</th>\n",
              "      <th>offset</th>\n",
              "      <th>sex</th>\n",
              "      <th>age</th>\n",
              "      <th>finding</th>\n",
              "      <th>RT_PCR_positive</th>\n",
              "      <th>survival</th>\n",
              "      <th>intubated</th>\n",
              "      <th>intubation_present</th>\n",
              "      <th>went_icu</th>\n",
              "      <th>in_icu</th>\n",
              "      <th>needed_supplemental_O2</th>\n",
              "      <th>extubated</th>\n",
              "      <th>temperature</th>\n",
              "      <th>pO2_saturation</th>\n",
              "      <th>leukocyte_count</th>\n",
              "      <th>neutrophil_count</th>\n",
              "      <th>lymphocyte_count</th>\n",
              "      <th>view</th>\n",
              "      <th>modality</th>\n",
              "      <th>date</th>\n",
              "      <th>location</th>\n",
              "      <th>folder</th>\n",
              "      <th>filename</th>\n",
              "      <th>doi</th>\n",
              "      <th>url</th>\n",
              "      <th>license</th>\n",
              "      <th>clinical_notes</th>\n",
              "      <th>other_notes</th>\n",
              "      <th>Unnamed: 29</th>\n",
              "    </tr>\n",
              "  </thead>\n",
              "  <tbody>\n",
              "    <tr>\n",
              "      <th>0</th>\n",
              "      <td>2</td>\n",
              "      <td>0.0</td>\n",
              "      <td>M</td>\n",
              "      <td>65.0</td>\n",
              "      <td>Pneumonia/Viral/COVID-19</td>\n",
              "      <td>Y</td>\n",
              "      <td>Y</td>\n",
              "      <td>N</td>\n",
              "      <td>N</td>\n",
              "      <td>N</td>\n",
              "      <td>N</td>\n",
              "      <td>Y</td>\n",
              "      <td>NaN</td>\n",
              "      <td>NaN</td>\n",
              "      <td>NaN</td>\n",
              "      <td>NaN</td>\n",
              "      <td>NaN</td>\n",
              "      <td>NaN</td>\n",
              "      <td>PA</td>\n",
              "      <td>X-ray</td>\n",
              "      <td>January 22, 2020</td>\n",
              "      <td>Cho Ray Hospital, Ho Chi Minh City, Vietnam</td>\n",
              "      <td>images</td>\n",
              "      <td>auntminnie-a-2020_01_28_23_51_6665_2020_01_28_...</td>\n",
              "      <td>10.1056/nejmc2001272</td>\n",
              "      <td>https://www.nejm.org/doi/full/10.1056/NEJMc200...</td>\n",
              "      <td>NaN</td>\n",
              "      <td>On January 22, 2020, a 65-year-old man with a ...</td>\n",
              "      <td>NaN</td>\n",
              "      <td>NaN</td>\n",
              "    </tr>\n",
              "    <tr>\n",
              "      <th>1</th>\n",
              "      <td>2</td>\n",
              "      <td>3.0</td>\n",
              "      <td>M</td>\n",
              "      <td>65.0</td>\n",
              "      <td>Pneumonia/Viral/COVID-19</td>\n",
              "      <td>Y</td>\n",
              "      <td>Y</td>\n",
              "      <td>N</td>\n",
              "      <td>N</td>\n",
              "      <td>N</td>\n",
              "      <td>N</td>\n",
              "      <td>Y</td>\n",
              "      <td>NaN</td>\n",
              "      <td>NaN</td>\n",
              "      <td>NaN</td>\n",
              "      <td>NaN</td>\n",
              "      <td>NaN</td>\n",
              "      <td>NaN</td>\n",
              "      <td>PA</td>\n",
              "      <td>X-ray</td>\n",
              "      <td>January 25, 2020</td>\n",
              "      <td>Cho Ray Hospital, Ho Chi Minh City, Vietnam</td>\n",
              "      <td>images</td>\n",
              "      <td>auntminnie-b-2020_01_28_23_51_6665_2020_01_28_...</td>\n",
              "      <td>10.1056/nejmc2001272</td>\n",
              "      <td>https://www.nejm.org/doi/full/10.1056/NEJMc200...</td>\n",
              "      <td>NaN</td>\n",
              "      <td>On January 22, 2020, a 65-year-old man with a ...</td>\n",
              "      <td>NaN</td>\n",
              "      <td>NaN</td>\n",
              "    </tr>\n",
              "    <tr>\n",
              "      <th>2</th>\n",
              "      <td>2</td>\n",
              "      <td>5.0</td>\n",
              "      <td>M</td>\n",
              "      <td>65.0</td>\n",
              "      <td>Pneumonia/Viral/COVID-19</td>\n",
              "      <td>Y</td>\n",
              "      <td>Y</td>\n",
              "      <td>N</td>\n",
              "      <td>N</td>\n",
              "      <td>N</td>\n",
              "      <td>N</td>\n",
              "      <td>Y</td>\n",
              "      <td>NaN</td>\n",
              "      <td>NaN</td>\n",
              "      <td>NaN</td>\n",
              "      <td>NaN</td>\n",
              "      <td>NaN</td>\n",
              "      <td>NaN</td>\n",
              "      <td>PA</td>\n",
              "      <td>X-ray</td>\n",
              "      <td>January 27, 2020</td>\n",
              "      <td>Cho Ray Hospital, Ho Chi Minh City, Vietnam</td>\n",
              "      <td>images</td>\n",
              "      <td>auntminnie-c-2020_01_28_23_51_6665_2020_01_28_...</td>\n",
              "      <td>10.1056/nejmc2001272</td>\n",
              "      <td>https://www.nejm.org/doi/full/10.1056/NEJMc200...</td>\n",
              "      <td>NaN</td>\n",
              "      <td>On January 22, 2020, a 65-year-old man with a ...</td>\n",
              "      <td>NaN</td>\n",
              "      <td>NaN</td>\n",
              "    </tr>\n",
              "    <tr>\n",
              "      <th>3</th>\n",
              "      <td>2</td>\n",
              "      <td>6.0</td>\n",
              "      <td>M</td>\n",
              "      <td>65.0</td>\n",
              "      <td>Pneumonia/Viral/COVID-19</td>\n",
              "      <td>Y</td>\n",
              "      <td>Y</td>\n",
              "      <td>N</td>\n",
              "      <td>N</td>\n",
              "      <td>N</td>\n",
              "      <td>N</td>\n",
              "      <td>Y</td>\n",
              "      <td>NaN</td>\n",
              "      <td>NaN</td>\n",
              "      <td>NaN</td>\n",
              "      <td>NaN</td>\n",
              "      <td>NaN</td>\n",
              "      <td>NaN</td>\n",
              "      <td>PA</td>\n",
              "      <td>X-ray</td>\n",
              "      <td>January 28, 2020</td>\n",
              "      <td>Cho Ray Hospital, Ho Chi Minh City, Vietnam</td>\n",
              "      <td>images</td>\n",
              "      <td>auntminnie-d-2020_01_28_23_51_6665_2020_01_28_...</td>\n",
              "      <td>10.1056/nejmc2001272</td>\n",
              "      <td>https://www.nejm.org/doi/full/10.1056/NEJMc200...</td>\n",
              "      <td>NaN</td>\n",
              "      <td>On January 22, 2020, a 65-year-old man with a ...</td>\n",
              "      <td>NaN</td>\n",
              "      <td>NaN</td>\n",
              "    </tr>\n",
              "    <tr>\n",
              "      <th>4</th>\n",
              "      <td>4</td>\n",
              "      <td>0.0</td>\n",
              "      <td>F</td>\n",
              "      <td>52.0</td>\n",
              "      <td>Pneumonia/Viral/COVID-19</td>\n",
              "      <td>Y</td>\n",
              "      <td>NaN</td>\n",
              "      <td>N</td>\n",
              "      <td>N</td>\n",
              "      <td>N</td>\n",
              "      <td>N</td>\n",
              "      <td>N</td>\n",
              "      <td>NaN</td>\n",
              "      <td>NaN</td>\n",
              "      <td>NaN</td>\n",
              "      <td>NaN</td>\n",
              "      <td>NaN</td>\n",
              "      <td>NaN</td>\n",
              "      <td>PA</td>\n",
              "      <td>X-ray</td>\n",
              "      <td>January 25, 2020</td>\n",
              "      <td>Changhua Christian Hospital, Changhua City, Ta...</td>\n",
              "      <td>images</td>\n",
              "      <td>nejmc2001573_f1a.jpeg</td>\n",
              "      <td>10.1056/NEJMc2001573</td>\n",
              "      <td>https://www.nejm.org/doi/full/10.1056/NEJMc200...</td>\n",
              "      <td>NaN</td>\n",
              "      <td>diffuse infiltrates in the bilateral lower lungs</td>\n",
              "      <td>NaN</td>\n",
              "      <td>NaN</td>\n",
              "    </tr>\n",
              "  </tbody>\n",
              "</table>\n",
              "</div>"
            ],
            "text/plain": [
              "  patientid  offset  ... other_notes  Unnamed: 29\n",
              "0         2     0.0  ...         NaN          NaN\n",
              "1         2     3.0  ...         NaN          NaN\n",
              "2         2     5.0  ...         NaN          NaN\n",
              "3         2     6.0  ...         NaN          NaN\n",
              "4         4     0.0  ...         NaN          NaN\n",
              "\n",
              "[5 rows x 30 columns]"
            ]
          },
          "metadata": {
            "tags": []
          },
          "execution_count": 6
        }
      ]
    },
    {
      "cell_type": "code",
      "metadata": {
        "id": "ETQ6RvXsqrno"
      },
      "source": [
        "if not os.path.exists(TARGET_DIR):\r\n",
        "  os.mkdir(TARGET_DIR)"
      ],
      "execution_count": 7,
      "outputs": []
    },
    {
      "cell_type": "code",
      "metadata": {
        "colab": {
          "base_uri": "https://localhost:8080/"
        },
        "id": "327alfNdXnph",
        "outputId": "1d1ba08e-88d3-4987-e610-15bf5c83d718"
      },
      "source": [
        "import shutil\r\n",
        "count=0\r\n",
        "substring=\"COVID-19\"\r\n",
        "for(i,row) in df.iterrows():\r\n",
        "  if substring in row[\"finding\"] and row[\"view\"]==\"PA\":\r\n",
        "    filename=row[\"filename\"]\r\n",
        "    imagepath=os.path.join(IMAGE_PATH,filename)\r\n",
        "    imageCopyPath=os.path.join(TARGET_DIR,filename)\r\n",
        "    shutil.copy2(imagepath,imageCopyPath)\r\n",
        "    count+=1\r\n",
        "print(count)"
      ],
      "execution_count": 8,
      "outputs": [
        {
          "output_type": "stream",
          "text": [
            "196\n"
          ],
          "name": "stdout"
        }
      ]
    },
    {
      "cell_type": "code",
      "metadata": {
        "id": "o8Zgv_BlYYwh"
      },
      "source": [
        "#normal images from kaggle\r\n",
        "KAGGLE_FILE_PATH='NORMAL_DATASET'\r\n",
        "TARGET_NORMAL_DIR='NON-COVID_IMAGES' "
      ],
      "execution_count": 9,
      "outputs": []
    },
    {
      "cell_type": "code",
      "metadata": {
        "id": "nEqBbtRmf9oP"
      },
      "source": [
        "IMAGE_NAMES=os.listdir(KAGGLE_FILE_PATH)\r\n",
        "import random\r\n",
        "random.shuffle(IMAGE_NAMES)"
      ],
      "execution_count": 11,
      "outputs": []
    },
    {
      "cell_type": "code",
      "metadata": {
        "id": "DA4f_IknhZIi"
      },
      "source": [
        "if not os.path.exists(TARGET_NORMAL_DIR):\r\n",
        "  os.mkdir(TARGET_NORMAL_DIR)"
      ],
      "execution_count": 12,
      "outputs": []
    },
    {
      "cell_type": "code",
      "metadata": {
        "id": "h6mwwnzDgnoK"
      },
      "source": [
        "for i in range(196):\r\n",
        "  image_name=IMAGE_NAMES[i]\r\n",
        "  src=os.path.join(KAGGLE_FILE_PATH,image_name)\r\n",
        "  target=os.path.join(TARGET_NORMAL_DIR,image_name)\r\n",
        "  shutil.copy2(src,target)"
      ],
      "execution_count": 13,
      "outputs": []
    },
    {
      "cell_type": "code",
      "metadata": {
        "id": "m7lOOtLkiC5x"
      },
      "source": [
        ""
      ],
      "execution_count": null,
      "outputs": []
    }
  ]
}